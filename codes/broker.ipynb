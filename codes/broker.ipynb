{
 "cells": [
  {
   "cell_type": "code",
   "execution_count": 1,
   "id": "26b53048-02d3-455e-8df6-ca7af053a358",
   "metadata": {},
   "outputs": [],
   "source": [
    "from classes import BrokerServer\n",
    "import threading"
   ]
  },
  {
   "cell_type": "code",
   "execution_count": 2,
   "id": "fb6616b8-e467-4772-8983-562a50269496",
   "metadata": {},
   "outputs": [
    {
     "name": "stdout",
     "output_type": "stream",
     "text": [
      "Broker berjalan di localhost:8000\n",
      "Broker menerima koneksi dari ('127.0.0.1', 53724)\n",
      "Broker menerima permintaan: Long\n",
      "Update load worker: [3, 0, 0]Broker menerima koneksi dari ('127.0.0.1', 53734)\n",
      "\n",
      "Broker menerima permintaan: Long\n",
      "Update load worker: [3, 3, 0]Broker menerima koneksi dari ('127.0.0.1', 53745)\n",
      "\n",
      "Broker menerima permintaan: Long\n",
      "Update load worker: [3, 3, 3]Broker menerima koneksi dari ('127.0.0.1', 53754)\n",
      "\n",
      "Broker menerima permintaan: Long\n",
      "Update load worker: [6, 3, 3]Broker menerima koneksi dari ('127.0.0.1', 53762)\n",
      "\n",
      "Broker menerima permintaan: Long\n",
      "Update load worker: [6, 6, 3]\n",
      "Broker menerima koneksi dari ('127.0.0.1', 53770)\n",
      "Broker menerima permintaan: Short\n",
      "Update load worker: [6, 6, 4]\n",
      "Broker menerima koneksi dari ('127.0.0.1', 53776)\n",
      "Broker menerima permintaan: Long\n",
      "Update load worker: [6, 6, 7]Broker menerima koneksi dari ('127.0.0.1', 53785)\n",
      "Broker menerima permintaan: Long\n",
      "\n",
      "Update load worker: [9, 6, 7]\n",
      "Broker menerima koneksi dari ('127.0.0.1', 53791)\n",
      "Broker menerima permintaan: Long\n",
      "Update load worker: [9, 9, 7]\n",
      "Broker menerima koneksi dari ('127.0.0.1', 53805)\n",
      "Broker menerima permintaan: Long\n",
      "Update load worker: [9, 9, 10]\n"
     ]
    }
   ],
   "source": [
    "# Jalankan broker\n",
    "broker = BrokerServer(\"localhost\", 8000)\n",
    "threading.Thread(target=broker.start).start()"
   ]
  },
  {
   "cell_type": "code",
   "execution_count": null,
   "id": "9efcd663-e2d3-4cb1-9416-f7c2e481e2b7",
   "metadata": {},
   "outputs": [],
   "source": []
  }
 ],
 "metadata": {
  "kernelspec": {
   "display_name": "Python 3 (ipykernel)",
   "language": "python",
   "name": "python3"
  },
  "language_info": {
   "codemirror_mode": {
    "name": "ipython",
    "version": 3
   },
   "file_extension": ".py",
   "mimetype": "text/x-python",
   "name": "python",
   "nbconvert_exporter": "python",
   "pygments_lexer": "ipython3",
   "version": "3.10.6"
  }
 },
 "nbformat": 4,
 "nbformat_minor": 5
}
