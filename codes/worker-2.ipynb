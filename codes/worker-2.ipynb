{
 "cells": [
  {
   "cell_type": "code",
   "execution_count": 1,
   "id": "7de816e1-1d6e-4f0a-a562-92ca743ed143",
   "metadata": {},
   "outputs": [],
   "source": [
    "from classes import WorkerServer\n",
    "import threading"
   ]
  },
  {
   "cell_type": "code",
   "execution_count": 2,
   "id": "ce49c628-201c-4a39-a9e8-ee458e797cf8",
   "metadata": {},
   "outputs": [
    {
     "name": "stdout",
     "output_type": "stream",
     "text": [
      "Worker 2 berjalan di localhost:9002\n",
      "Worker 2 menerima koneksi dari ('127.0.0.1', 53735)\n",
      "Worker 2 selesai memproses Long\n",
      "Worker 2 menerima koneksi dari ('127.0.0.1', 53763)\n",
      "Worker 2 selesai memproses Long\n",
      "Worker 2 menerima koneksi dari ('127.0.0.1', 53792)\n",
      "Worker 2 selesai memproses Long\n"
     ]
    }
   ],
   "source": [
    "# Worker 2\n",
    "worker2 = WorkerServer(\"localhost\", 9002, worker_id=2)\n",
    "threading.Thread(target=worker2.start).start()"
   ]
  },
  {
   "cell_type": "code",
   "execution_count": null,
   "id": "79e360b7-ec9a-4b8b-a708-84c05b6d6597",
   "metadata": {},
   "outputs": [],
   "source": []
  }
 ],
 "metadata": {
  "kernelspec": {
   "display_name": "Python 3 (ipykernel)",
   "language": "python",
   "name": "python3"
  },
  "language_info": {
   "codemirror_mode": {
    "name": "ipython",
    "version": 3
   },
   "file_extension": ".py",
   "mimetype": "text/x-python",
   "name": "python",
   "nbconvert_exporter": "python",
   "pygments_lexer": "ipython3",
   "version": "3.10.6"
  }
 },
 "nbformat": 4,
 "nbformat_minor": 5
}
