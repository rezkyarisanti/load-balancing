{
 "cells": [
  {
   "cell_type": "code",
   "execution_count": 1,
   "id": "d429c928-648d-4226-9605-dec02768caa7",
   "metadata": {},
   "outputs": [],
   "source": [
    "from classes import WorkerServer\n",
    "import threading"
   ]
  },
  {
   "cell_type": "code",
   "execution_count": 2,
   "id": "6b7877f2-6252-4812-aca5-808475e4a73a",
   "metadata": {},
   "outputs": [
    {
     "name": "stdout",
     "output_type": "stream",
     "text": [
      "Worker 3 berjalan di localhost:9003\n",
      "Worker 3 menerima koneksi dari ('127.0.0.1', 53746)\n",
      "Worker 3 selesai memproses Long\n",
      "Worker 3 menerima koneksi dari ('127.0.0.1', 53771)\n",
      "Worker 3 selesai memproses Short\n",
      "Worker 3 menerima koneksi dari ('127.0.0.1', 53777)\n",
      "Worker 3 selesai memproses Long\n",
      "Worker 3 menerima koneksi dari ('127.0.0.1', 53806)\n",
      "Worker 3 selesai memproses Long\n"
     ]
    }
   ],
   "source": [
    "# Worker 3\n",
    "worker3 = WorkerServer(\"localhost\", 9003, worker_id=3)\n",
    "threading.Thread(target=worker3.start).start()"
   ]
  },
  {
   "cell_type": "code",
   "execution_count": null,
   "id": "5e7e0239-b284-42b9-bd89-38f705d9e9ab",
   "metadata": {},
   "outputs": [],
   "source": []
  }
 ],
 "metadata": {
  "kernelspec": {
   "display_name": "Python 3 (ipykernel)",
   "language": "python",
   "name": "python3"
  },
  "language_info": {
   "codemirror_mode": {
    "name": "ipython",
    "version": 3
   },
   "file_extension": ".py",
   "mimetype": "text/x-python",
   "name": "python",
   "nbconvert_exporter": "python",
   "pygments_lexer": "ipython3",
   "version": "3.10.6"
  }
 },
 "nbformat": 4,
 "nbformat_minor": 5
}
