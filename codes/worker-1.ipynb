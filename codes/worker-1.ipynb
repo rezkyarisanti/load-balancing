{
 "cells": [
  {
   "cell_type": "code",
   "execution_count": 1,
   "id": "252aecb5-d6bc-48e1-98f2-79aac6203c84",
   "metadata": {},
   "outputs": [],
   "source": [
    "from classes import WorkerServer\n",
    "import threading"
   ]
  },
  {
   "cell_type": "code",
   "execution_count": 2,
   "id": "265ea317-5181-4363-a6bd-dc782d9a606d",
   "metadata": {},
   "outputs": [
    {
     "name": "stdout",
     "output_type": "stream",
     "text": [
      "Worker 1 berjalan di localhost:9001\n",
      "Worker 1 menerima koneksi dari ('127.0.0.1', 53727)\n",
      "Worker 1 selesai memproses Long\n",
      "Worker 1 menerima koneksi dari ('127.0.0.1', 53755)\n",
      "Worker 1 selesai memproses Long\n",
      "Worker 1 menerima koneksi dari ('127.0.0.1', 53786)\n",
      "Worker 1 selesai memproses Long\n"
     ]
    }
   ],
   "source": [
    "# Worker 1\n",
    "worker1 = WorkerServer(\"localhost\", 9001, worker_id=1)\n",
    "threading.Thread(target=worker1.start).start()"
   ]
  },
  {
   "cell_type": "code",
   "execution_count": null,
   "id": "df453c44-aeff-40dd-98e3-cb3773d1d233",
   "metadata": {},
   "outputs": [],
   "source": []
  }
 ],
 "metadata": {
  "kernelspec": {
   "display_name": "Python 3 (ipykernel)",
   "language": "python",
   "name": "python3"
  },
  "language_info": {
   "codemirror_mode": {
    "name": "ipython",
    "version": 3
   },
   "file_extension": ".py",
   "mimetype": "text/x-python",
   "name": "python",
   "nbconvert_exporter": "python",
   "pygments_lexer": "ipython3",
   "version": "3.10.6"
  }
 },
 "nbformat": 4,
 "nbformat_minor": 5
}
