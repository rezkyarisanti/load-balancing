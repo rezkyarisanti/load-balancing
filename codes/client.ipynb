{
 "cells": [
  {
   "cell_type": "code",
   "execution_count": 1,
   "id": "c5cbbe43-59ef-403d-bbfa-d5512d734738",
   "metadata": {},
   "outputs": [
    {
     "name": "stdout",
     "output_type": "stream",
     "text": [
      "['Long', 'Long', 'Long', 'Long', 'Long', 'Short', 'Long', 'Long', 'Long', 'Long']\n"
     ]
    }
   ],
   "source": [
    "from classes import Client\n",
    "import random\n",
    "\n",
    "data = [random.choice([\"Long\", \"Short\"]) for c in range(0, 10)]\n",
    "print(data)"
   ]
  },
  {
   "cell_type": "code",
   "execution_count": 2,
   "id": "f29f6324-8ded-42c0-9b10-916ff86518fe",
   "metadata": {},
   "outputs": [
    {
     "name": "stdout",
     "output_type": "stream",
     "text": [
      "Client menerima response: Worker 1 selesai memproses Long\n",
      "Client menerima response: Worker 2 selesai memproses Long\n",
      "Client menerima response: Worker 3 selesai memproses Long\n",
      "Client menerima response: Worker 1 selesai memproses Long\n",
      "Client menerima response: Worker 2 selesai memproses Long\n",
      "Client menerima response: Worker 3 selesai memproses Short\n",
      "Client menerima response: Worker 3 selesai memproses Long\n",
      "Client menerima response: Worker 1 selesai memproses Long\n",
      "Client menerima response: Worker 2 selesai memproses Long\n",
      "Client menerima response: Worker 3 selesai memproses Long\n"
     ]
    }
   ],
   "source": [
    "client = Client(\"localhost\", 8000)\n",
    "for d in data:\n",
    "    client.send_request(d)"
   ]
  },
  {
   "cell_type": "code",
   "execution_count": null,
   "id": "8a701caa-f420-4300-8a5e-dde2a52d409f",
   "metadata": {},
   "outputs": [],
   "source": []
  }
 ],
 "metadata": {
  "kernelspec": {
   "display_name": "Python 3 (ipykernel)",
   "language": "python",
   "name": "python3"
  },
  "language_info": {
   "codemirror_mode": {
    "name": "ipython",
    "version": 3
   },
   "file_extension": ".py",
   "mimetype": "text/x-python",
   "name": "python",
   "nbconvert_exporter": "python",
   "pygments_lexer": "ipython3",
   "version": "3.10.6"
  }
 },
 "nbformat": 4,
 "nbformat_minor": 5
}
